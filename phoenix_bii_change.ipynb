{
 "cells": [
  {
   "cell_type": "markdown",
   "id": "f4f9da9d-6083-4bdc-85d2-027edd5a6d9e",
   "metadata": {},
   "source": [
    "# Title\n",
    "\n",
    "**Author:** Marina Kochuten\n",
    "\n",
    "**Repository:** https://github.com/marinakochuten/eds220-hwk4\n",
    "\n",
    "\n",
    "## About\n",
    "\n",
    "\n",
    "## Highlights\n",
    "\n",
    "- \n",
    "- \n",
    "- \n",
    "\n",
    "## Data\n",
    "\n",
    "**About the data:** \n",
    "\n",
    "**Citation:** "
   ]
  }
 ],
 "metadata": {
  "kernelspec": {
   "display_name": "Anaconda 3 (EDS220)",
   "language": "python",
   "name": "eds220-env"
  },
  "language_info": {
   "codemirror_mode": {
    "name": "ipython",
    "version": 3
   },
   "file_extension": ".py",
   "mimetype": "text/x-python",
   "name": "python",
   "nbconvert_exporter": "python",
   "pygments_lexer": "ipython3",
   "version": "3.11.4"
  }
 },
 "nbformat": 4,
 "nbformat_minor": 5
}
